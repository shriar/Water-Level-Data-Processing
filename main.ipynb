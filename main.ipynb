{
 "cells": [
  {
   "cell_type": "code",
   "execution_count": 5,
   "metadata": {},
   "outputs": [],
   "source": [
    "import pandas as pd\n",
    "import glob"
   ]
  },
  {
   "cell_type": "code",
   "execution_count": 6,
   "metadata": {},
   "outputs": [
    {
     "data": {
      "text/plain": [
       "['Water LevelSW101.5.xlsx',\n",
       " 'Water LevelSW103.xlsx',\n",
       " 'Water LevelSW219.xlsx',\n",
       " 'Water LevelSW244.xlsx',\n",
       " 'Water LevelSW28.xlsx']"
      ]
     },
     "execution_count": 6,
     "metadata": {},
     "output_type": "execute_result"
    }
   ],
   "source": [
    "files = glob.glob('*.xlsx')\n",
    "files"
   ]
  },
  {
   "cell_type": "code",
   "execution_count": 7,
   "metadata": {},
   "outputs": [],
   "source": [
    "def main(path):\n",
    "    df = pd.read_excel(path, skiprows=9)\n",
    "    \n",
    "\n",
    "    df[\"DateTime\"] = df[\"DATE TIME\"]\n",
    "    date = df[\"DateTime\"].dt.date\n",
    "    # time = df[\"DateTime\"].dt.time\n",
    "    df[\"Date\"] = date\n",
    "    df.drop(['DATE TIME', \"DISTRICT\", \"SL\", \"UPAZILA\", \"RIVER\", \"STATION ID\", \\\n",
    "            \"STATION NAME\", \"DATA TYPE\", \"TYPE OF STATION\", \"LATITUDE\", \"LONGITUDE\"],\\\n",
    "            axis=1, inplace=True) # delete the unnecessary columns\n",
    "\n",
    "\n",
    "    # find if there is any missing date\n",
    "    date_range = pd.date_range(df[\"Date\"].min(), df[\"Date\"].max())\n",
    "    missing_dates = date_range[~date_range.isin(df[\"Date\"])]\n",
    "    df.drop(\"Date\", axis=1, inplace=True)\n",
    "\n",
    "    if len(missing_dates) > 0:\n",
    "        print(f\"There is missing dates in '{path}'. \\nThe missing dates: {missing_dates}\\n\")\n",
    "        # input(f\"There is missing dates in {path}\")\n",
    "        return\n",
    "    else:\n",
    "        print(f\"There is no missing dates in '{path}'\")\n",
    "\n",
    "\n",
    "    # delete the dupliate date\n",
    "    # duplicates = df[df.duplicated(subset='DateTime', keep=False)]\n",
    "    df = df.drop_duplicates(subset='DateTime', keep='first')\n",
    "\n",
    "    # replace interval value with middle time\n",
    "    i = 1\n",
    "    while True:\n",
    "        hours_diff_1 = (df.iloc[i, 1] - df.iloc[i-1, 1]).seconds / 3600\n",
    "        hours_diff_2 = (df.iloc[i+1, 1] - df.iloc[i, 1]).seconds / 3600\n",
    "\n",
    "        if hours_diff_1 % 3 != 0 and hours_diff_2 % 3 != 0:\n",
    "            # print(df.iloc[i, 1])\n",
    "        # if (df.iloc[i, 1] - df.iloc[i-1, 1]) != pd.Timedelta(hours=3) and (df.iloc[i+1, 1] - df.iloc[i, 1]) != pd.Timedelta(hours=3):\n",
    "            # print(df.iloc[i, 1])\n",
    "            # if (df.iloc[i, 1] - df.iloc[i-1, 1]) < pd.Timedelta(hours=1, minutes=30):\n",
    "            #     df.iloc[i-1, 0] = df.iloc[i, 0]\n",
    "            # else:\n",
    "            #     df.iloc[i+1, 0] = df.iloc[i, 0]\n",
    "            \n",
    "            if (df.iloc[i, 1] - df.iloc[i-1, 1]) < (df.iloc[i+1, 1] - df.iloc[i, 1]):\n",
    "                df.iloc[i-1, 0] = df.iloc[i, 0]\n",
    "            else:\n",
    "                df.iloc[i+1, 0] = df.iloc[i, 0]\n",
    "\n",
    "        i += 1\n",
    "        if i == len(df)-1:\n",
    "            break\n",
    "\n",
    "    # delete the row for that is not three hour interval\n",
    "    df = df[df[\"DateTime\"].dt.hour % 3 == 0]\n",
    "    df = df[df[\"DateTime\"].dt.minute == 0]\n",
    "\n",
    "    # create 3 hour interval time that was not here\n",
    "    df['DateTime'] = pd.to_datetime(df['DateTime'])\n",
    "    df = df.set_index('DateTime')\n",
    "    df = df.resample('3H').asfreq()\n",
    "\n",
    "    df = df.reset_index()\n",
    "\n",
    "    # fill the empty time with 12 hour after time\n",
    "    df['WL (mMSL)'].fillna(df['WL (mMSL)'].shift(4), inplace=True)\n",
    "\n",
    "    # save as csv\n",
    "    df.to_csv(f\"Corrected_{path[:-5]}.csv\", index=False)\n",
    "    print(\"Done\\n\")"
   ]
  },
  {
   "cell_type": "code",
   "execution_count": 8,
   "metadata": {},
   "outputs": [
    {
     "name": "stdout",
     "output_type": "stream",
     "text": [
      "There is no missing dates in 'Water LevelSW101.5.xlsx'\n",
      "Done\n",
      "\n",
      "There is no missing dates in 'Water LevelSW103.xlsx'\n",
      "Done\n",
      "\n",
      "There is missing dates in 'Water LevelSW219.xlsx'. \n",
      "The missing dates: DatetimeIndex(['2020-09-01', '2020-09-02', '2020-09-03', '2020-09-04',\n",
      "               '2020-09-05', '2020-09-06', '2020-09-07', '2020-09-08',\n",
      "               '2020-09-09', '2020-09-10', '2020-09-11', '2020-09-12',\n",
      "               '2020-09-13', '2020-09-14', '2020-09-15', '2020-09-16',\n",
      "               '2020-09-17', '2020-09-18', '2020-09-19', '2020-09-20',\n",
      "               '2020-09-21', '2020-09-22', '2020-09-23', '2020-09-24',\n",
      "               '2020-09-25', '2020-09-26', '2020-09-27', '2020-09-28',\n",
      "               '2020-09-29', '2020-09-30'],\n",
      "              dtype='datetime64[ns]', freq='D')\n",
      "\n",
      "There is no missing dates in 'Water LevelSW244.xlsx'\n",
      "Done\n",
      "\n",
      "There is no missing dates in 'Water LevelSW28.xlsx'\n",
      "Done\n",
      "\n"
     ]
    }
   ],
   "source": [
    "for file in files:\n",
    "    main(file)"
   ]
  },
  {
   "cell_type": "code",
   "execution_count": null,
   "metadata": {},
   "outputs": [],
   "source": []
  }
 ],
 "metadata": {
  "kernelspec": {
   "display_name": "base",
   "language": "python",
   "name": "python3"
  },
  "language_info": {
   "codemirror_mode": {
    "name": "ipython",
    "version": 3
   },
   "file_extension": ".py",
   "mimetype": "text/x-python",
   "name": "python",
   "nbconvert_exporter": "python",
   "pygments_lexer": "ipython3",
   "version": "3.9.0"
  }
 },
 "nbformat": 4,
 "nbformat_minor": 2
}
