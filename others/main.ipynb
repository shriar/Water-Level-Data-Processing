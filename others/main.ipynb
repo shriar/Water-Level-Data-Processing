{
 "cells": [
  {
   "cell_type": "code",
   "execution_count": 1,
   "metadata": {},
   "outputs": [],
   "source": [
    "import pandas as pd\n",
    "import glob"
   ]
  },
  {
   "cell_type": "code",
   "execution_count": 2,
   "metadata": {},
   "outputs": [],
   "source": [
    "files = glob.glob('*.xlsx')\n",
    "df = pd.read_excel(files[0])\n",
    "\n",
    "df[\"DateTime\"] = df[\"DATE TIME\"]\n",
    "# df[\"DateTime\"] = pd.to_datetime(df[\"DATE TIME\"], format='%d-%m-%y %H:%M')\n",
    "date = df[\"DateTime\"].dt.date\n",
    "time = df[\"DateTime\"].dt.time\n",
    "df[\"Date\"] = date\n",
    "df.drop(['DATE TIME', \"DISTRICT\", \"SL\", \"UPAZILA\", \"RIVER\", \"STATION ID\", \"STATION NAME\", \"DATA TYPE\", \"TYPE OF STATION\", \"LATITUDE\", \"LONGITUDE\"], axis=1, inplace=True)\n",
    "# df"
   ]
  },
  {
   "cell_type": "code",
   "execution_count": 3,
   "metadata": {},
   "outputs": [
    {
     "name": "stdout",
     "output_type": "stream",
     "text": [
      "There is no missing dates\n"
     ]
    }
   ],
   "source": [
    "date_range = pd.date_range(df[\"Date\"].min(), df[\"Date\"].max())\n",
    "missing_dates = date_range[~date_range.isin(df[\"Date\"])]\n",
    "df.drop(\"Date\", axis=1, inplace=True)\n",
    "\n",
    "if len(missing_dates) > 0:\n",
    "    print(f\"The missing dates: {missing_dates}\")\n",
    "    input()\n",
    "else:\n",
    "    print(\"There is no missing dates\")"
   ]
  },
  {
   "cell_type": "code",
   "execution_count": 4,
   "metadata": {},
   "outputs": [],
   "source": [
    "duplicates = df[df.duplicated(subset='DateTime', keep=False)]\n",
    "df = df.drop_duplicates(subset='DateTime', keep='first')\n",
    "# duplicates"
   ]
  },
  {
   "cell_type": "code",
   "execution_count": 5,
   "metadata": {},
   "outputs": [],
   "source": [
    "i = 1\n",
    "while True:\n",
    "    if (df.iloc[i, 1] - df.iloc[i-1, 1]) != pd.Timedelta(hours=3) and (df.iloc[i+1, 1] - df.iloc[i, 1]) != pd.Timedelta(hours=3):\n",
    "        if (df.iloc[i, 1] - df.iloc[i-1, 1]) < pd.Timedelta(hours=1, minutes=30):\n",
    "            df.iloc[i-1, 0] = df.iloc[i, 0]\n",
    "        else:\n",
    "            df.iloc[i+1, 0] = df.iloc[i, 0]\n",
    "\n",
    "    i += 1\n",
    "    if i == len(df)-1:\n",
    "        break"
   ]
  },
  {
   "cell_type": "code",
   "execution_count": 6,
   "metadata": {},
   "outputs": [],
   "source": [
    "df = df[df[\"DateTime\"].dt.hour % 3 == 0]\n",
    "df = df[df[\"DateTime\"].dt.minute == 0]\n",
    "# df"
   ]
  },
  {
   "cell_type": "code",
   "execution_count": 7,
   "metadata": {},
   "outputs": [],
   "source": [
    "df['DateTime'] = pd.to_datetime(df['DateTime'])\n",
    "df = df.set_index('DateTime')\n",
    "df = df.resample('3H').asfreq()"
   ]
  },
  {
   "cell_type": "code",
   "execution_count": 8,
   "metadata": {},
   "outputs": [],
   "source": [
    "df = df.reset_index()"
   ]
  },
  {
   "cell_type": "code",
   "execution_count": 9,
   "metadata": {},
   "outputs": [],
   "source": [
    "df['WL (mMSL)'].fillna(df['WL (mMSL)'].shift(4), inplace=True)"
   ]
  },
  {
   "cell_type": "code",
   "execution_count": 11,
   "metadata": {},
   "outputs": [
    {
     "name": "stdout",
     "output_type": "stream",
     "text": [
      "Done\n"
     ]
    }
   ],
   "source": [
    "df.to_csv(\"test.csv\", index=False)\n",
    "print(\"Done\")"
   ]
  },
  {
   "cell_type": "code",
   "execution_count": null,
   "metadata": {},
   "outputs": [],
   "source": []
  }
 ],
 "metadata": {
  "kernelspec": {
   "display_name": "base",
   "language": "python",
   "name": "python3"
  },
  "language_info": {
   "codemirror_mode": {
    "name": "ipython",
    "version": 3
   },
   "file_extension": ".py",
   "mimetype": "text/x-python",
   "name": "python",
   "nbconvert_exporter": "python",
   "pygments_lexer": "ipython3",
   "version": "3.9.0"
  }
 },
 "nbformat": 4,
 "nbformat_minor": 2
}
